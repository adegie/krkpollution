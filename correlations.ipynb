{
 "cells": [
  {
   "cell_type": "code",
   "execution_count": 136,
   "metadata": {
    "collapsed": true
   },
   "outputs": [],
   "source": [
    "import pandas as pd\n",
    "import seaborn as sns\n",
    "from ggplot import *\n",
    "import numpy as np\n",
    "%matplotlib inline\n",
    "import sklearn.cluster as cluster\n",
    "import coin.segmentation as seg\n",
    "import coin.analysis as an\n",
    "import math\n",
    "from sklearn.externals.six import StringIO  \n",
    "import pydot "
   ]
  },
  {
   "cell_type": "code",
   "execution_count": 93,
   "metadata": {
    "collapsed": false
   },
   "outputs": [],
   "source": [
    "balice=pd.read_csv(\"windbalice.csv\")\n",
    "aleje=pd.read_csv(\"dane-pomiarowe_2015-12.csv\",sep=\";\")"
   ]
  },
  {
   "cell_type": "code",
   "execution_count": 94,
   "metadata": {
    "collapsed": false
   },
   "outputs": [],
   "source": [
    "aleje.columns=['day','no2','nox','no','co','co8','benz','pm10','pm2.5']"
   ]
  },
  {
   "cell_type": "code",
   "execution_count": 95,
   "metadata": {
    "collapsed": false
   },
   "outputs": [
    {
     "data": {
      "text/html": [
       "<div>\n",
       "<table border=\"1\" class=\"dataframe\">\n",
       "  <thead>\n",
       "    <tr style=\"text-align: right;\">\n",
       "      <th></th>\n",
       "      <th>day</th>\n",
       "      <th>no2</th>\n",
       "      <th>nox</th>\n",
       "      <th>no</th>\n",
       "      <th>co</th>\n",
       "      <th>co8</th>\n",
       "      <th>benz</th>\n",
       "      <th>pm10</th>\n",
       "      <th>pm2.5</th>\n",
       "    </tr>\n",
       "  </thead>\n",
       "  <tbody>\n",
       "    <tr>\n",
       "      <th>0</th>\n",
       "      <td>1.12</td>\n",
       "      <td>42</td>\n",
       "      <td>107</td>\n",
       "      <td>42</td>\n",
       "      <td>408</td>\n",
       "      <td>769</td>\n",
       "      <td>-</td>\n",
       "      <td>21</td>\n",
       "      <td>14</td>\n",
       "    </tr>\n",
       "  </tbody>\n",
       "</table>\n",
       "</div>"
      ],
      "text/plain": [
       "    day  no2  nox  no   co  co8 benz  pm10  pm2.5\n",
       "0  1.12   42  107  42  408  769    -    21     14"
      ]
     },
     "execution_count": 95,
     "metadata": {},
     "output_type": "execute_result"
    }
   ],
   "source": [
    "aleje[:1]"
   ]
  },
  {
   "cell_type": "code",
   "execution_count": 96,
   "metadata": {
    "collapsed": false
   },
   "outputs": [],
   "source": [
    "def convday(orig):\n",
    "    elements=str(orig).split(\".\")\n",
    "    if len(elements)>1:\n",
    "        day, month = elements\n",
    "        if (len(day))<2:\n",
    "            day=\"0\"+day\n",
    "        return \"2015-\"+month+\"-\"+day\n",
    "    return \"none\"\n",
    "aleje.day=map(lambda d: convday(d),aleje.day)"
   ]
  },
  {
   "cell_type": "code",
   "execution_count": 97,
   "metadata": {
    "collapsed": false
   },
   "outputs": [
    {
     "data": {
      "text/html": [
       "<div>\n",
       "<table border=\"1\" class=\"dataframe\">\n",
       "  <thead>\n",
       "    <tr style=\"text-align: right;\">\n",
       "      <th></th>\n",
       "      <th>day</th>\n",
       "      <th>no2</th>\n",
       "      <th>nox</th>\n",
       "      <th>no</th>\n",
       "      <th>co</th>\n",
       "      <th>co8</th>\n",
       "      <th>benz</th>\n",
       "      <th>pm10</th>\n",
       "      <th>pm2.5</th>\n",
       "    </tr>\n",
       "  </thead>\n",
       "  <tbody>\n",
       "    <tr>\n",
       "      <th>0</th>\n",
       "      <td>2015-12-01</td>\n",
       "      <td>42</td>\n",
       "      <td>107</td>\n",
       "      <td>42</td>\n",
       "      <td>408</td>\n",
       "      <td>769</td>\n",
       "      <td>-</td>\n",
       "      <td>21</td>\n",
       "      <td>14</td>\n",
       "    </tr>\n",
       "    <tr>\n",
       "      <th>1</th>\n",
       "      <td>2015-12-02</td>\n",
       "      <td>63</td>\n",
       "      <td>241</td>\n",
       "      <td>117</td>\n",
       "      <td>832</td>\n",
       "      <td>1295</td>\n",
       "      <td>-</td>\n",
       "      <td>52</td>\n",
       "      <td>40</td>\n",
       "    </tr>\n",
       "    <tr>\n",
       "      <th>2</th>\n",
       "      <td>2015-12-03</td>\n",
       "      <td>73</td>\n",
       "      <td>395</td>\n",
       "      <td>211</td>\n",
       "      <td>1368</td>\n",
       "      <td>2112</td>\n",
       "      <td>-</td>\n",
       "      <td>126</td>\n",
       "      <td>86</td>\n",
       "    </tr>\n",
       "  </tbody>\n",
       "</table>\n",
       "</div>"
      ],
      "text/plain": [
       "          day  no2  nox   no    co   co8 benz  pm10  pm2.5\n",
       "0  2015-12-01   42  107   42   408   769    -    21     14\n",
       "1  2015-12-02   63  241  117   832  1295    -    52     40\n",
       "2  2015-12-03   73  395  211  1368  2112    -   126     86"
      ]
     },
     "execution_count": 97,
     "metadata": {},
     "output_type": "execute_result"
    }
   ],
   "source": [
    "aleje[:3]"
   ]
  },
  {
   "cell_type": "code",
   "execution_count": 98,
   "metadata": {
    "collapsed": false
   },
   "outputs": [
    {
     "data": {
      "text/html": [
       "<div>\n",
       "<table border=\"1\" class=\"dataframe\">\n",
       "  <thead>\n",
       "    <tr style=\"text-align: right;\">\n",
       "      <th></th>\n",
       "      <th>day</th>\n",
       "      <th>max temp</th>\n",
       "      <th>min temp</th>\n",
       "      <th>avg temp</th>\n",
       "      <th>td avg</th>\n",
       "      <th>hr avg</th>\n",
       "      <th>wind dir</th>\n",
       "      <th>wind int</th>\n",
       "      <th>wind gust</th>\n",
       "      <th>pressure</th>\n",
       "      <th>precip</th>\n",
       "      <th>tot oct</th>\n",
       "      <th>low oct</th>\n",
       "      <th>visibility</th>\n",
       "    </tr>\n",
       "  </thead>\n",
       "  <tbody>\n",
       "    <tr>\n",
       "      <th>0</th>\n",
       "      <td>2015-12-02</td>\n",
       "      <td>8.9</td>\n",
       "      <td>3.4</td>\n",
       "      <td>5.1</td>\n",
       "      <td>1.0</td>\n",
       "      <td>75.7</td>\n",
       "      <td>W</td>\n",
       "      <td>25.1</td>\n",
       "      <td>72.0</td>\n",
       "      <td>1020.5</td>\n",
       "      <td>0.1</td>\n",
       "      <td>6.8</td>\n",
       "      <td>6.7</td>\n",
       "      <td>31.2</td>\n",
       "    </tr>\n",
       "    <tr>\n",
       "      <th>1</th>\n",
       "      <td>2015-12-03</td>\n",
       "      <td>8.7</td>\n",
       "      <td>2.9</td>\n",
       "      <td>5.7</td>\n",
       "      <td>5.0</td>\n",
       "      <td>94.8</td>\n",
       "      <td>WSW</td>\n",
       "      <td>11.9</td>\n",
       "      <td>----</td>\n",
       "      <td>1027.7</td>\n",
       "      <td>1.0</td>\n",
       "      <td>8.0</td>\n",
       "      <td>7.6</td>\n",
       "      <td>5.8</td>\n",
       "    </tr>\n",
       "    <tr>\n",
       "      <th>2</th>\n",
       "      <td>2015-12-04</td>\n",
       "      <td>8.3</td>\n",
       "      <td>-2.7</td>\n",
       "      <td>3.4</td>\n",
       "      <td>2.4</td>\n",
       "      <td>94.7</td>\n",
       "      <td>SW</td>\n",
       "      <td>6.3</td>\n",
       "      <td>----</td>\n",
       "      <td>1032.2</td>\n",
       "      <td>0.0</td>\n",
       "      <td>4.4</td>\n",
       "      <td>4.9</td>\n",
       "      <td>3.1</td>\n",
       "    </tr>\n",
       "  </tbody>\n",
       "</table>\n",
       "</div>"
      ],
      "text/plain": [
       "          day  max temp  min temp  avg temp  td avg  hr avg wind dir  \\\n",
       "0  2015-12-02       8.9       3.4       5.1     1.0    75.7        W   \n",
       "1  2015-12-03       8.7       2.9       5.7     5.0    94.8      WSW   \n",
       "2  2015-12-04       8.3      -2.7       3.4     2.4    94.7       SW   \n",
       "\n",
       "   wind int wind gust  pressure precip tot oct  low oct  visibility  \n",
       "0      25.1      72.0    1020.5    0.1     6.8      6.7        31.2  \n",
       "1      11.9      ----    1027.7    1.0     8.0      7.6         5.8  \n",
       "2       6.3      ----    1032.2    0.0     4.4      4.9         3.1  "
      ]
     },
     "execution_count": 98,
     "metadata": {},
     "output_type": "execute_result"
    }
   ],
   "source": [
    "balice[:3]"
   ]
  },
  {
   "cell_type": "code",
   "execution_count": 119,
   "metadata": {
    "collapsed": false
   },
   "outputs": [],
   "source": [
    "switchbalice=balice.copy()\n",
    "switchaleje=aleje.copy()"
   ]
  },
  {
   "cell_type": "code",
   "execution_count": 114,
   "metadata": {
    "collapsed": true
   },
   "outputs": [],
   "source": [
    "def nextday(orig):\n",
    "    year, month, day = orig.split(\"-\")\n",
    "    nextday = str(int(day)+1)\n",
    "    if len(nextday)<2:\n",
    "        nextday=\"0\"+nextday\n",
    "    return year+\"-\"+month+\"-\"+nextday"
   ]
  },
  {
   "cell_type": "code",
   "execution_count": 120,
   "metadata": {
    "collapsed": false
   },
   "outputs": [],
   "source": [
    "switchbalice['day']=map(lambda d: nextday(d), balice.day)\n",
    "switchaleje['day']=map(lambda d: nextday(d), switchaleje.day)"
   ]
  },
  {
   "cell_type": "code",
   "execution_count": 103,
   "metadata": {
    "collapsed": false
   },
   "outputs": [
    {
     "data": {
      "text/html": [
       "<div>\n",
       "<table border=\"1\" class=\"dataframe\">\n",
       "  <thead>\n",
       "    <tr style=\"text-align: right;\">\n",
       "      <th></th>\n",
       "      <th>day</th>\n",
       "      <th>max temp</th>\n",
       "      <th>min temp</th>\n",
       "      <th>avg temp</th>\n",
       "      <th>td avg</th>\n",
       "      <th>hr avg</th>\n",
       "      <th>wind dir</th>\n",
       "      <th>wind int</th>\n",
       "      <th>wind gust</th>\n",
       "      <th>pressure</th>\n",
       "      <th>precip</th>\n",
       "      <th>tot oct</th>\n",
       "      <th>low oct</th>\n",
       "      <th>visibility</th>\n",
       "    </tr>\n",
       "  </thead>\n",
       "  <tbody>\n",
       "    <tr>\n",
       "      <th>0</th>\n",
       "      <td>2015-12-02</td>\n",
       "      <td>8.9</td>\n",
       "      <td>3.4</td>\n",
       "      <td>5.1</td>\n",
       "      <td>1</td>\n",
       "      <td>75.7</td>\n",
       "      <td>W</td>\n",
       "      <td>25.1</td>\n",
       "      <td>72.0</td>\n",
       "      <td>1020.5</td>\n",
       "      <td>0.1</td>\n",
       "      <td>6.8</td>\n",
       "      <td>6.7</td>\n",
       "      <td>31.2</td>\n",
       "    </tr>\n",
       "    <tr>\n",
       "      <th>1</th>\n",
       "      <td>2015-12-03</td>\n",
       "      <td>8.7</td>\n",
       "      <td>2.9</td>\n",
       "      <td>5.7</td>\n",
       "      <td>5</td>\n",
       "      <td>94.8</td>\n",
       "      <td>WSW</td>\n",
       "      <td>11.9</td>\n",
       "      <td>----</td>\n",
       "      <td>1027.7</td>\n",
       "      <td>1.0</td>\n",
       "      <td>8.0</td>\n",
       "      <td>7.6</td>\n",
       "      <td>5.8</td>\n",
       "    </tr>\n",
       "  </tbody>\n",
       "</table>\n",
       "</div>"
      ],
      "text/plain": [
       "          day  max temp  min temp  avg temp  td avg  hr avg wind dir  \\\n",
       "0  2015-12-02       8.9       3.4       5.1       1    75.7        W   \n",
       "1  2015-12-03       8.7       2.9       5.7       5    94.8      WSW   \n",
       "\n",
       "   wind int wind gust  pressure precip tot oct  low oct  visibility  \n",
       "0      25.1      72.0    1020.5    0.1     6.8      6.7        31.2  \n",
       "1      11.9      ----    1027.7    1.0     8.0      7.6         5.8  "
      ]
     },
     "execution_count": 103,
     "metadata": {},
     "output_type": "execute_result"
    }
   ],
   "source": [
    "balice[:2]"
   ]
  },
  {
   "cell_type": "code",
   "execution_count": 104,
   "metadata": {
    "collapsed": false
   },
   "outputs": [
    {
     "data": {
      "text/html": [
       "<div>\n",
       "<table border=\"1\" class=\"dataframe\">\n",
       "  <thead>\n",
       "    <tr style=\"text-align: right;\">\n",
       "      <th></th>\n",
       "      <th>day</th>\n",
       "      <th>max temp</th>\n",
       "      <th>min temp</th>\n",
       "      <th>avg temp</th>\n",
       "      <th>td avg</th>\n",
       "      <th>hr avg</th>\n",
       "      <th>wind dir</th>\n",
       "      <th>wind int</th>\n",
       "      <th>wind gust</th>\n",
       "      <th>pressure</th>\n",
       "      <th>precip</th>\n",
       "      <th>tot oct</th>\n",
       "      <th>low oct</th>\n",
       "      <th>visibility</th>\n",
       "    </tr>\n",
       "  </thead>\n",
       "  <tbody>\n",
       "    <tr>\n",
       "      <th>0</th>\n",
       "      <td>2015-12-03</td>\n",
       "      <td>8.9</td>\n",
       "      <td>3.4</td>\n",
       "      <td>5.1</td>\n",
       "      <td>1</td>\n",
       "      <td>75.7</td>\n",
       "      <td>W</td>\n",
       "      <td>25.1</td>\n",
       "      <td>72.0</td>\n",
       "      <td>1020.5</td>\n",
       "      <td>0.1</td>\n",
       "      <td>6.8</td>\n",
       "      <td>6.7</td>\n",
       "      <td>31.2</td>\n",
       "    </tr>\n",
       "    <tr>\n",
       "      <th>1</th>\n",
       "      <td>2015-12-04</td>\n",
       "      <td>8.7</td>\n",
       "      <td>2.9</td>\n",
       "      <td>5.7</td>\n",
       "      <td>5</td>\n",
       "      <td>94.8</td>\n",
       "      <td>WSW</td>\n",
       "      <td>11.9</td>\n",
       "      <td>----</td>\n",
       "      <td>1027.7</td>\n",
       "      <td>1.0</td>\n",
       "      <td>8.0</td>\n",
       "      <td>7.6</td>\n",
       "      <td>5.8</td>\n",
       "    </tr>\n",
       "  </tbody>\n",
       "</table>\n",
       "</div>"
      ],
      "text/plain": [
       "          day  max temp  min temp  avg temp  td avg  hr avg wind dir  \\\n",
       "0  2015-12-03       8.9       3.4       5.1       1    75.7        W   \n",
       "1  2015-12-04       8.7       2.9       5.7       5    94.8      WSW   \n",
       "\n",
       "   wind int wind gust  pressure precip tot oct  low oct  visibility  \n",
       "0      25.1      72.0    1020.5    0.1     6.8      6.7        31.2  \n",
       "1      11.9      ----    1027.7    1.0     8.0      7.6         5.8  "
      ]
     },
     "execution_count": 104,
     "metadata": {},
     "output_type": "execute_result"
    }
   ],
   "source": [
    "switchbalice[:2]"
   ]
  },
  {
   "cell_type": "code",
   "execution_count": 105,
   "metadata": {
    "collapsed": false
   },
   "outputs": [],
   "source": [
    "df=aleje.merge(balice)\n",
    "dfswitch=aleje.merge(switchbalice)"
   ]
  },
  {
   "cell_type": "code",
   "execution_count": 122,
   "metadata": {
    "collapsed": false
   },
   "outputs": [],
   "source": [
    "switchaleje.columns=map(lambda c: \"next \"+c, switchaleje.columns)"
   ]
  },
  {
   "cell_type": "code",
   "execution_count": 123,
   "metadata": {
    "collapsed": false
   },
   "outputs": [
    {
     "data": {
      "text/html": [
       "<div>\n",
       "<table border=\"1\" class=\"dataframe\">\n",
       "  <thead>\n",
       "    <tr style=\"text-align: right;\">\n",
       "      <th></th>\n",
       "      <th>next day</th>\n",
       "      <th>next no2</th>\n",
       "      <th>next nox</th>\n",
       "      <th>next no</th>\n",
       "      <th>next co</th>\n",
       "      <th>next co8</th>\n",
       "      <th>next benz</th>\n",
       "      <th>next pm10</th>\n",
       "      <th>next pm2.5</th>\n",
       "    </tr>\n",
       "  </thead>\n",
       "  <tbody>\n",
       "    <tr>\n",
       "      <th>0</th>\n",
       "      <td>2015-12-02</td>\n",
       "      <td>42</td>\n",
       "      <td>107</td>\n",
       "      <td>42</td>\n",
       "      <td>408</td>\n",
       "      <td>769</td>\n",
       "      <td>-</td>\n",
       "      <td>21</td>\n",
       "      <td>14</td>\n",
       "    </tr>\n",
       "    <tr>\n",
       "      <th>1</th>\n",
       "      <td>2015-12-03</td>\n",
       "      <td>63</td>\n",
       "      <td>241</td>\n",
       "      <td>117</td>\n",
       "      <td>832</td>\n",
       "      <td>1295</td>\n",
       "      <td>-</td>\n",
       "      <td>52</td>\n",
       "      <td>40</td>\n",
       "    </tr>\n",
       "  </tbody>\n",
       "</table>\n",
       "</div>"
      ],
      "text/plain": [
       "     next day  next no2  next nox  next no  next co  next co8 next benz  \\\n",
       "0  2015-12-02        42       107       42      408       769         -   \n",
       "1  2015-12-03        63       241      117      832      1295         -   \n",
       "\n",
       "   next pm10  next pm2.5  \n",
       "0         21          14  \n",
       "1         52          40  "
      ]
     },
     "execution_count": 123,
     "metadata": {},
     "output_type": "execute_result"
    }
   ],
   "source": [
    "switchaleje[:2]"
   ]
  },
  {
   "cell_type": "code",
   "execution_count": 124,
   "metadata": {
    "collapsed": false
   },
   "outputs": [
    {
     "data": {
      "text/html": [
       "<div>\n",
       "<table border=\"1\" class=\"dataframe\">\n",
       "  <thead>\n",
       "    <tr style=\"text-align: right;\">\n",
       "      <th></th>\n",
       "      <th>day</th>\n",
       "      <th>next no2</th>\n",
       "      <th>next nox</th>\n",
       "      <th>next no</th>\n",
       "      <th>next co</th>\n",
       "      <th>next co8</th>\n",
       "      <th>next benz</th>\n",
       "      <th>next pm10</th>\n",
       "      <th>next pm2.5</th>\n",
       "    </tr>\n",
       "  </thead>\n",
       "  <tbody>\n",
       "    <tr>\n",
       "      <th>0</th>\n",
       "      <td>2015-12-02</td>\n",
       "      <td>42</td>\n",
       "      <td>107</td>\n",
       "      <td>42</td>\n",
       "      <td>408</td>\n",
       "      <td>769</td>\n",
       "      <td>-</td>\n",
       "      <td>21</td>\n",
       "      <td>14</td>\n",
       "    </tr>\n",
       "    <tr>\n",
       "      <th>1</th>\n",
       "      <td>2015-12-03</td>\n",
       "      <td>63</td>\n",
       "      <td>241</td>\n",
       "      <td>117</td>\n",
       "      <td>832</td>\n",
       "      <td>1295</td>\n",
       "      <td>-</td>\n",
       "      <td>52</td>\n",
       "      <td>40</td>\n",
       "    </tr>\n",
       "  </tbody>\n",
       "</table>\n",
       "</div>"
      ],
      "text/plain": [
       "          day  next no2  next nox  next no  next co  next co8 next benz  \\\n",
       "0  2015-12-02        42       107       42      408       769         -   \n",
       "1  2015-12-03        63       241      117      832      1295         -   \n",
       "\n",
       "   next pm10  next pm2.5  \n",
       "0         21          14  \n",
       "1         52          40  "
      ]
     },
     "execution_count": 124,
     "metadata": {},
     "output_type": "execute_result"
    }
   ],
   "source": [
    "switchaleje.rename(columns={'next day':'day'}, inplace=True)\n",
    "switchaleje[:2]"
   ]
  },
  {
   "cell_type": "code",
   "execution_count": 142,
   "metadata": {
    "collapsed": true
   },
   "outputs": [],
   "source": [
    "dfnextaleje=aleje.merge(switchaleje)"
   ]
  },
  {
   "cell_type": "code",
   "execution_count": 146,
   "metadata": {
    "collapsed": false
   },
   "outputs": [
    {
     "data": {
      "text/plain": [
       "<seaborn.axisgrid.JointGrid at 0x10c613650>"
      ]
     },
     "execution_count": 146,
     "metadata": {},
     "output_type": "execute_result"
    },
    {
     "data": {
      "image/png": "[encoded data removed]",
      "text/plain": [
       "<matplotlib.figure.Figure at 0x10c6137d0>"
      ]
     },
     "metadata": {},
     "output_type": "display_data"
    }
   ],
   "source": [
    "sns.jointplot(\"pm2.5\", \"next pm2.5\", dfnextaleje, kind=\"reg\")"
   ]
  },
  {
   "cell_type": "code",
   "execution_count": 150,
   "metadata": {
    "collapsed": false
   },
   "outputs": [
    {
     "data": {
      "text/html": [
       "<div>\n",
       "<table border=\"1\" class=\"dataframe\">\n",
       "  <thead>\n",
       "    <tr style=\"text-align: right;\">\n",
       "      <th></th>\n",
       "      <th>day</th>\n",
       "      <th>no2</th>\n",
       "      <th>nox</th>\n",
       "      <th>no</th>\n",
       "      <th>co</th>\n",
       "      <th>co8</th>\n",
       "      <th>benz</th>\n",
       "      <th>pm10</th>\n",
       "      <th>pm2.5</th>\n",
       "      <th>next no2</th>\n",
       "      <th>next nox</th>\n",
       "      <th>next no</th>\n",
       "      <th>next co</th>\n",
       "      <th>next co8</th>\n",
       "      <th>next benz</th>\n",
       "      <th>next pm10</th>\n",
       "      <th>next pm2.5</th>\n",
       "    </tr>\n",
       "  </thead>\n",
       "  <tbody>\n",
       "    <tr>\n",
       "      <th>0</th>\n",
       "      <td>2015-12-02</td>\n",
       "      <td>63</td>\n",
       "      <td>241</td>\n",
       "      <td>117</td>\n",
       "      <td>832</td>\n",
       "      <td>1295</td>\n",
       "      <td>-</td>\n",
       "      <td>52</td>\n",
       "      <td>40</td>\n",
       "      <td>42</td>\n",
       "      <td>107</td>\n",
       "      <td>42</td>\n",
       "      <td>408</td>\n",
       "      <td>769</td>\n",
       "      <td>-</td>\n",
       "      <td>21</td>\n",
       "      <td>14</td>\n",
       "    </tr>\n",
       "    <tr>\n",
       "      <th>1</th>\n",
       "      <td>2015-12-03</td>\n",
       "      <td>73</td>\n",
       "      <td>395</td>\n",
       "      <td>211</td>\n",
       "      <td>1368</td>\n",
       "      <td>2112</td>\n",
       "      <td>-</td>\n",
       "      <td>126</td>\n",
       "      <td>86</td>\n",
       "      <td>63</td>\n",
       "      <td>241</td>\n",
       "      <td>117</td>\n",
       "      <td>832</td>\n",
       "      <td>1295</td>\n",
       "      <td>-</td>\n",
       "      <td>52</td>\n",
       "      <td>40</td>\n",
       "    </tr>\n",
       "    <tr>\n",
       "      <th>2</th>\n",
       "      <td>2015-12-04</td>\n",
       "      <td>71</td>\n",
       "      <td>415</td>\n",
       "      <td>225</td>\n",
       "      <td>1784</td>\n",
       "      <td>2385</td>\n",
       "      <td>-</td>\n",
       "      <td>172</td>\n",
       "      <td>111</td>\n",
       "      <td>73</td>\n",
       "      <td>395</td>\n",
       "      <td>211</td>\n",
       "      <td>1368</td>\n",
       "      <td>2112</td>\n",
       "      <td>-</td>\n",
       "      <td>126</td>\n",
       "      <td>86</td>\n",
       "    </tr>\n",
       "    <tr>\n",
       "      <th>3</th>\n",
       "      <td>2015-12-05</td>\n",
       "      <td>54</td>\n",
       "      <td>210</td>\n",
       "      <td>102</td>\n",
       "      <td>915</td>\n",
       "      <td>1280</td>\n",
       "      <td>-</td>\n",
       "      <td>74</td>\n",
       "      <td>53</td>\n",
       "      <td>71</td>\n",
       "      <td>415</td>\n",
       "      <td>225</td>\n",
       "      <td>1784</td>\n",
       "      <td>2385</td>\n",
       "      <td>-</td>\n",
       "      <td>172</td>\n",
       "      <td>111</td>\n",
       "    </tr>\n",
       "    <tr>\n",
       "      <th>4</th>\n",
       "      <td>2015-12-06</td>\n",
       "      <td>60</td>\n",
       "      <td>238</td>\n",
       "      <td>117</td>\n",
       "      <td>1142</td>\n",
       "      <td>1341</td>\n",
       "      <td>-</td>\n",
       "      <td>84</td>\n",
       "      <td>63</td>\n",
       "      <td>54</td>\n",
       "      <td>210</td>\n",
       "      <td>102</td>\n",
       "      <td>915</td>\n",
       "      <td>1280</td>\n",
       "      <td>-</td>\n",
       "      <td>74</td>\n",
       "      <td>53</td>\n",
       "    </tr>\n",
       "  </tbody>\n",
       "</table>\n",
       "</div>"
      ],
      "text/plain": [
       "          day  no2  nox   no    co   co8 benz  pm10  pm2.5  next no2  \\\n",
       "0  2015-12-02   63  241  117   832  1295    -    52     40        42   \n",
       "1  2015-12-03   73  395  211  1368  2112    -   126     86        63   \n",
       "2  2015-12-04   71  415  225  1784  2385    -   172    111        73   \n",
       "3  2015-12-05   54  210  102   915  1280    -    74     53        71   \n",
       "4  2015-12-06   60  238  117  1142  1341    -    84     63        54   \n",
       "\n",
       "   next nox  next no  next co  next co8 next benz  next pm10  next pm2.5  \n",
       "0       107       42      408       769         -         21          14  \n",
       "1       241      117      832      1295         -         52          40  \n",
       "2       395      211     1368      2112         -        126          86  \n",
       "3       415      225     1784      2385         -        172         111  \n",
       "4       210      102      915      1280         -         74          53  "
      ]
     },
     "execution_count": 150,
     "metadata": {},
     "output_type": "execute_result"
    }
   ],
   "source": [
    "dfnextaleje[:5]"
   ]
  },
  {
   "cell_type": "code",
   "execution_count": 151,
   "metadata": {
    "collapsed": false
   },
   "outputs": [
    {
     "data": {
      "text/plain": [
       "30"
      ]
     },
     "execution_count": 151,
     "metadata": {},
     "output_type": "execute_result"
    }
   ],
   "source": [
    "len(dfnextaleje)"
   ]
  },
  {
   "cell_type": "code",
   "execution_count": null,
   "metadata": {
    "collapsed": true
   },
   "outputs": [],
   "source": []
  },
  {
   "cell_type": "code",
   "execution_count": null,
   "metadata": {
    "collapsed": true
   },
   "outputs": [],
   "source": []
  },
  {
   "cell_type": "code",
   "execution_count": 106,
   "metadata": {
    "collapsed": false
   },
   "outputs": [
    {
     "data": {
      "text/html": [
       "<div>\n",
       "<table border=\"1\" class=\"dataframe\">\n",
       "  <thead>\n",
       "    <tr style=\"text-align: right;\">\n",
       "      <th></th>\n",
       "      <th>day</th>\n",
       "      <th>no2</th>\n",
       "      <th>nox</th>\n",
       "      <th>no</th>\n",
       "      <th>co</th>\n",
       "      <th>co8</th>\n",
       "      <th>benz</th>\n",
       "      <th>pm10</th>\n",
       "      <th>pm2.5</th>\n",
       "      <th>max temp</th>\n",
       "      <th>...</th>\n",
       "      <th>td avg</th>\n",
       "      <th>hr avg</th>\n",
       "      <th>wind dir</th>\n",
       "      <th>wind int</th>\n",
       "      <th>wind gust</th>\n",
       "      <th>pressure</th>\n",
       "      <th>precip</th>\n",
       "      <th>tot oct</th>\n",
       "      <th>low oct</th>\n",
       "      <th>visibility</th>\n",
       "    </tr>\n",
       "  </thead>\n",
       "  <tbody>\n",
       "    <tr>\n",
       "      <th>0</th>\n",
       "      <td>2015-12-03</td>\n",
       "      <td>73</td>\n",
       "      <td>395</td>\n",
       "      <td>211</td>\n",
       "      <td>1368</td>\n",
       "      <td>2112</td>\n",
       "      <td>-</td>\n",
       "      <td>126</td>\n",
       "      <td>86</td>\n",
       "      <td>8.9</td>\n",
       "      <td>...</td>\n",
       "      <td>1</td>\n",
       "      <td>75.7</td>\n",
       "      <td>W</td>\n",
       "      <td>25.1</td>\n",
       "      <td>72.0</td>\n",
       "      <td>1020.5</td>\n",
       "      <td>0.1</td>\n",
       "      <td>6.8</td>\n",
       "      <td>6.7</td>\n",
       "      <td>31.2</td>\n",
       "    </tr>\n",
       "    <tr>\n",
       "      <th>1</th>\n",
       "      <td>2015-12-04</td>\n",
       "      <td>71</td>\n",
       "      <td>415</td>\n",
       "      <td>225</td>\n",
       "      <td>1784</td>\n",
       "      <td>2385</td>\n",
       "      <td>-</td>\n",
       "      <td>172</td>\n",
       "      <td>111</td>\n",
       "      <td>8.7</td>\n",
       "      <td>...</td>\n",
       "      <td>5</td>\n",
       "      <td>94.8</td>\n",
       "      <td>WSW</td>\n",
       "      <td>11.9</td>\n",
       "      <td>----</td>\n",
       "      <td>1027.7</td>\n",
       "      <td>1.0</td>\n",
       "      <td>8.0</td>\n",
       "      <td>7.6</td>\n",
       "      <td>5.8</td>\n",
       "    </tr>\n",
       "  </tbody>\n",
       "</table>\n",
       "<p>2 rows × 22 columns</p>\n",
       "</div>"
      ],
      "text/plain": [
       "          day  no2  nox   no    co   co8 benz  pm10  pm2.5  max temp  \\\n",
       "0  2015-12-03   73  395  211  1368  2112    -   126     86       8.9   \n",
       "1  2015-12-04   71  415  225  1784  2385    -   172    111       8.7   \n",
       "\n",
       "     ...      td avg  hr avg  wind dir  wind int wind gust  pressure precip  \\\n",
       "0    ...           1    75.7         W      25.1      72.0    1020.5    0.1   \n",
       "1    ...           5    94.8       WSW      11.9      ----    1027.7    1.0   \n",
       "\n",
       "   tot oct low oct visibility  \n",
       "0      6.8     6.7       31.2  \n",
       "1      8.0     7.6        5.8  \n",
       "\n",
       "[2 rows x 22 columns]"
      ]
     },
     "execution_count": 106,
     "metadata": {},
     "output_type": "execute_result"
    }
   ],
   "source": [
    "dfswitch[:2]"
   ]
  },
  {
   "cell_type": "code",
   "execution_count": null,
   "metadata": {
    "collapsed": true
   },
   "outputs": [],
   "source": []
  },
  {
   "cell_type": "code",
   "execution_count": null,
   "metadata": {
    "collapsed": true
   },
   "outputs": [],
   "source": []
  },
  {
   "cell_type": "code",
   "execution_count": 59,
   "metadata": {
    "collapsed": false
   },
   "outputs": [
    {
     "data": {
      "text/html": [
       "<div>\n",
       "<table border=\"1\" class=\"dataframe\">\n",
       "  <thead>\n",
       "    <tr style=\"text-align: right;\">\n",
       "      <th></th>\n",
       "      <th>day</th>\n",
       "      <th>no2</th>\n",
       "      <th>nox</th>\n",
       "      <th>no</th>\n",
       "      <th>co</th>\n",
       "      <th>co8</th>\n",
       "      <th>benz</th>\n",
       "      <th>pm10</th>\n",
       "      <th>pm2.5</th>\n",
       "      <th>max temp</th>\n",
       "      <th>...</th>\n",
       "      <th>td avg</th>\n",
       "      <th>hr avg</th>\n",
       "      <th>wind dir</th>\n",
       "      <th>wind int</th>\n",
       "      <th>wind gust</th>\n",
       "      <th>pressure</th>\n",
       "      <th>precip</th>\n",
       "      <th>tot oct</th>\n",
       "      <th>low oct</th>\n",
       "      <th>visibility</th>\n",
       "    </tr>\n",
       "  </thead>\n",
       "  <tbody>\n",
       "    <tr>\n",
       "      <th>0</th>\n",
       "      <td>2015-12-02</td>\n",
       "      <td>63</td>\n",
       "      <td>241</td>\n",
       "      <td>117</td>\n",
       "      <td>832</td>\n",
       "      <td>1295</td>\n",
       "      <td>-</td>\n",
       "      <td>52</td>\n",
       "      <td>40</td>\n",
       "      <td>8.9</td>\n",
       "      <td>...</td>\n",
       "      <td>1.0</td>\n",
       "      <td>75.7</td>\n",
       "      <td>W</td>\n",
       "      <td>25.1</td>\n",
       "      <td>72.0</td>\n",
       "      <td>1020.5</td>\n",
       "      <td>0.1</td>\n",
       "      <td>6.8</td>\n",
       "      <td>6.7</td>\n",
       "      <td>31.2</td>\n",
       "    </tr>\n",
       "    <tr>\n",
       "      <th>1</th>\n",
       "      <td>2015-12-03</td>\n",
       "      <td>73</td>\n",
       "      <td>395</td>\n",
       "      <td>211</td>\n",
       "      <td>1368</td>\n",
       "      <td>2112</td>\n",
       "      <td>-</td>\n",
       "      <td>126</td>\n",
       "      <td>86</td>\n",
       "      <td>8.7</td>\n",
       "      <td>...</td>\n",
       "      <td>5.0</td>\n",
       "      <td>94.8</td>\n",
       "      <td>WSW</td>\n",
       "      <td>11.9</td>\n",
       "      <td>----</td>\n",
       "      <td>1027.7</td>\n",
       "      <td>1.0</td>\n",
       "      <td>8.0</td>\n",
       "      <td>7.6</td>\n",
       "      <td>5.8</td>\n",
       "    </tr>\n",
       "    <tr>\n",
       "      <th>2</th>\n",
       "      <td>2015-12-04</td>\n",
       "      <td>71</td>\n",
       "      <td>415</td>\n",
       "      <td>225</td>\n",
       "      <td>1784</td>\n",
       "      <td>2385</td>\n",
       "      <td>-</td>\n",
       "      <td>172</td>\n",
       "      <td>111</td>\n",
       "      <td>8.3</td>\n",
       "      <td>...</td>\n",
       "      <td>2.4</td>\n",
       "      <td>94.7</td>\n",
       "      <td>SW</td>\n",
       "      <td>6.3</td>\n",
       "      <td>----</td>\n",
       "      <td>1032.2</td>\n",
       "      <td>0.0</td>\n",
       "      <td>4.4</td>\n",
       "      <td>4.9</td>\n",
       "      <td>3.1</td>\n",
       "    </tr>\n",
       "    <tr>\n",
       "      <th>3</th>\n",
       "      <td>2015-12-05</td>\n",
       "      <td>54</td>\n",
       "      <td>210</td>\n",
       "      <td>102</td>\n",
       "      <td>915</td>\n",
       "      <td>1280</td>\n",
       "      <td>-</td>\n",
       "      <td>74</td>\n",
       "      <td>53</td>\n",
       "      <td>8.5</td>\n",
       "      <td>...</td>\n",
       "      <td>2.8</td>\n",
       "      <td>82.6</td>\n",
       "      <td>WSW</td>\n",
       "      <td>14.0</td>\n",
       "      <td>----</td>\n",
       "      <td>1031.2</td>\n",
       "      <td>Tr</td>\n",
       "      <td>6.8</td>\n",
       "      <td>3.8</td>\n",
       "      <td>11.8</td>\n",
       "    </tr>\n",
       "    <tr>\n",
       "      <th>4</th>\n",
       "      <td>2015-12-06</td>\n",
       "      <td>60</td>\n",
       "      <td>238</td>\n",
       "      <td>117</td>\n",
       "      <td>1142</td>\n",
       "      <td>1341</td>\n",
       "      <td>-</td>\n",
       "      <td>84</td>\n",
       "      <td>63</td>\n",
       "      <td>9.6</td>\n",
       "      <td>...</td>\n",
       "      <td>2.4</td>\n",
       "      <td>85.1</td>\n",
       "      <td>SW</td>\n",
       "      <td>13.2</td>\n",
       "      <td>----</td>\n",
       "      <td>1031.0</td>\n",
       "      <td>0.0</td>\n",
       "      <td>3.9</td>\n",
       "      <td>0.4</td>\n",
       "      <td>12.0</td>\n",
       "    </tr>\n",
       "    <tr>\n",
       "      <th>5</th>\n",
       "      <td>2015-12-07</td>\n",
       "      <td>65</td>\n",
       "      <td>299</td>\n",
       "      <td>153</td>\n",
       "      <td>1127</td>\n",
       "      <td>1369</td>\n",
       "      <td>-</td>\n",
       "      <td>79</td>\n",
       "      <td>54</td>\n",
       "      <td>9.9</td>\n",
       "      <td>...</td>\n",
       "      <td>2.1</td>\n",
       "      <td>85.8</td>\n",
       "      <td>SW</td>\n",
       "      <td>12.2</td>\n",
       "      <td>----</td>\n",
       "      <td>1030.1</td>\n",
       "      <td>0.0</td>\n",
       "      <td>3.2</td>\n",
       "      <td>1.0</td>\n",
       "      <td>15.4</td>\n",
       "    </tr>\n",
       "    <tr>\n",
       "      <th>6</th>\n",
       "      <td>2015-12-08</td>\n",
       "      <td>56</td>\n",
       "      <td>310</td>\n",
       "      <td>166</td>\n",
       "      <td>1166</td>\n",
       "      <td>1360</td>\n",
       "      <td>-</td>\n",
       "      <td>113</td>\n",
       "      <td>77</td>\n",
       "      <td>8.5</td>\n",
       "      <td>...</td>\n",
       "      <td>5.0</td>\n",
       "      <td>90.2</td>\n",
       "      <td>SW</td>\n",
       "      <td>8.9</td>\n",
       "      <td>----</td>\n",
       "      <td>1036.4</td>\n",
       "      <td>0.0</td>\n",
       "      <td>7.6</td>\n",
       "      <td>6.8</td>\n",
       "      <td>9.5</td>\n",
       "    </tr>\n",
       "    <tr>\n",
       "      <th>7</th>\n",
       "      <td>2015-12-09</td>\n",
       "      <td>47</td>\n",
       "      <td>237</td>\n",
       "      <td>124</td>\n",
       "      <td>982</td>\n",
       "      <td>1341</td>\n",
       "      <td>-</td>\n",
       "      <td>82</td>\n",
       "      <td>56</td>\n",
       "      <td>9.3</td>\n",
       "      <td>...</td>\n",
       "      <td>5.3</td>\n",
       "      <td>96.2</td>\n",
       "      <td>NE</td>\n",
       "      <td>9.9</td>\n",
       "      <td>----</td>\n",
       "      <td>1035.1</td>\n",
       "      <td>0.0</td>\n",
       "      <td>7.6</td>\n",
       "      <td>6.2</td>\n",
       "      <td>2.6</td>\n",
       "    </tr>\n",
       "    <tr>\n",
       "      <th>8</th>\n",
       "      <td>2015-12-10</td>\n",
       "      <td>78</td>\n",
       "      <td>374</td>\n",
       "      <td>194</td>\n",
       "      <td>1235</td>\n",
       "      <td>2325</td>\n",
       "      <td>-</td>\n",
       "      <td>103</td>\n",
       "      <td>63</td>\n",
       "      <td>6.0</td>\n",
       "      <td>...</td>\n",
       "      <td>3.6</td>\n",
       "      <td>94.7</td>\n",
       "      <td>WSW</td>\n",
       "      <td>10.5</td>\n",
       "      <td>----</td>\n",
       "      <td>1033.8</td>\n",
       "      <td>0.2</td>\n",
       "      <td>---</td>\n",
       "      <td>7.2</td>\n",
       "      <td>8.3</td>\n",
       "    </tr>\n",
       "    <tr>\n",
       "      <th>9</th>\n",
       "      <td>2015-12-11</td>\n",
       "      <td>71</td>\n",
       "      <td>382</td>\n",
       "      <td>202</td>\n",
       "      <td>1695</td>\n",
       "      <td>2465</td>\n",
       "      <td>-</td>\n",
       "      <td>153</td>\n",
       "      <td>111</td>\n",
       "      <td>7.1</td>\n",
       "      <td>...</td>\n",
       "      <td>-1.3</td>\n",
       "      <td>86.8</td>\n",
       "      <td>WNW</td>\n",
       "      <td>4.8</td>\n",
       "      <td>----</td>\n",
       "      <td>1035.4</td>\n",
       "      <td>0.0</td>\n",
       "      <td>2.5</td>\n",
       "      <td>5.4</td>\n",
       "      <td>13.0</td>\n",
       "    </tr>\n",
       "    <tr>\n",
       "      <th>10</th>\n",
       "      <td>2015-12-12</td>\n",
       "      <td>46</td>\n",
       "      <td>161</td>\n",
       "      <td>75</td>\n",
       "      <td>736</td>\n",
       "      <td>1148</td>\n",
       "      <td>-</td>\n",
       "      <td>54</td>\n",
       "      <td>38</td>\n",
       "      <td>5.8</td>\n",
       "      <td>...</td>\n",
       "      <td>-0.4</td>\n",
       "      <td>79.3</td>\n",
       "      <td>SW</td>\n",
       "      <td>13.2</td>\n",
       "      <td>----</td>\n",
       "      <td>1024.1</td>\n",
       "      <td>1.5</td>\n",
       "      <td>6.1</td>\n",
       "      <td>4.0</td>\n",
       "      <td>12.5</td>\n",
       "    </tr>\n",
       "    <tr>\n",
       "      <th>11</th>\n",
       "      <td>2015-12-13</td>\n",
       "      <td>40</td>\n",
       "      <td>142</td>\n",
       "      <td>66</td>\n",
       "      <td>755</td>\n",
       "      <td>1372</td>\n",
       "      <td>-</td>\n",
       "      <td>54</td>\n",
       "      <td>43</td>\n",
       "      <td>6.8</td>\n",
       "      <td>...</td>\n",
       "      <td>1.1</td>\n",
       "      <td>90.9</td>\n",
       "      <td>WSW</td>\n",
       "      <td>13.2</td>\n",
       "      <td>43.2</td>\n",
       "      <td>1021.7</td>\n",
       "      <td>0.9</td>\n",
       "      <td>4.8</td>\n",
       "      <td>4.4</td>\n",
       "      <td>11.6</td>\n",
       "    </tr>\n",
       "    <tr>\n",
       "      <th>12</th>\n",
       "      <td>2015-12-14</td>\n",
       "      <td>76</td>\n",
       "      <td>358</td>\n",
       "      <td>184</td>\n",
       "      <td>1110</td>\n",
       "      <td>2161</td>\n",
       "      <td>-</td>\n",
       "      <td>87</td>\n",
       "      <td>55</td>\n",
       "      <td>9.4</td>\n",
       "      <td>...</td>\n",
       "      <td>1.5</td>\n",
       "      <td>80.1</td>\n",
       "      <td>WSW</td>\n",
       "      <td>23.9</td>\n",
       "      <td>72.0</td>\n",
       "      <td>1019.3</td>\n",
       "      <td>1.0</td>\n",
       "      <td>6.8</td>\n",
       "      <td>6.5</td>\n",
       "      <td>26.6</td>\n",
       "    </tr>\n",
       "    <tr>\n",
       "      <th>13</th>\n",
       "      <td>2015-12-15</td>\n",
       "      <td>73</td>\n",
       "      <td>436</td>\n",
       "      <td>238</td>\n",
       "      <td>2104</td>\n",
       "      <td>2395</td>\n",
       "      <td>-</td>\n",
       "      <td>198</td>\n",
       "      <td>147</td>\n",
       "      <td>4.0</td>\n",
       "      <td>...</td>\n",
       "      <td>-2.5</td>\n",
       "      <td>82.5</td>\n",
       "      <td>NW</td>\n",
       "      <td>6.2</td>\n",
       "      <td>----</td>\n",
       "      <td>1028.2</td>\n",
       "      <td>0.0</td>\n",
       "      <td>6.5</td>\n",
       "      <td>5.5</td>\n",
       "      <td>14.7</td>\n",
       "    </tr>\n",
       "    <tr>\n",
       "      <th>14</th>\n",
       "      <td>2015-12-16</td>\n",
       "      <td>55</td>\n",
       "      <td>303</td>\n",
       "      <td>163</td>\n",
       "      <td>1202</td>\n",
       "      <td>1811</td>\n",
       "      <td>-</td>\n",
       "      <td>114</td>\n",
       "      <td>78</td>\n",
       "      <td>3.3</td>\n",
       "      <td>...</td>\n",
       "      <td>0.9</td>\n",
       "      <td>91.5</td>\n",
       "      <td>SW</td>\n",
       "      <td>5.4</td>\n",
       "      <td>----</td>\n",
       "      <td>1028.4</td>\n",
       "      <td>0.0</td>\n",
       "      <td>7.8</td>\n",
       "      <td>7.0</td>\n",
       "      <td>3.7</td>\n",
       "    </tr>\n",
       "    <tr>\n",
       "      <th>15</th>\n",
       "      <td>2015-12-17</td>\n",
       "      <td>52</td>\n",
       "      <td>273</td>\n",
       "      <td>145</td>\n",
       "      <td>1335</td>\n",
       "      <td>1674</td>\n",
       "      <td>-</td>\n",
       "      <td>117</td>\n",
       "      <td>79</td>\n",
       "      <td>4.3</td>\n",
       "      <td>...</td>\n",
       "      <td>1.2</td>\n",
       "      <td>96.1</td>\n",
       "      <td>SSW</td>\n",
       "      <td>5.0</td>\n",
       "      <td>----</td>\n",
       "      <td>1031.8</td>\n",
       "      <td>0.0</td>\n",
       "      <td>7.6</td>\n",
       "      <td>7.3</td>\n",
       "      <td>3.1</td>\n",
       "    </tr>\n",
       "    <tr>\n",
       "      <th>16</th>\n",
       "      <td>2015-12-18</td>\n",
       "      <td>51</td>\n",
       "      <td>260</td>\n",
       "      <td>136</td>\n",
       "      <td>1071</td>\n",
       "      <td>1419</td>\n",
       "      <td>-</td>\n",
       "      <td>57</td>\n",
       "      <td>43</td>\n",
       "      <td>5.9</td>\n",
       "      <td>...</td>\n",
       "      <td>2.7</td>\n",
       "      <td>93.2</td>\n",
       "      <td>SW</td>\n",
       "      <td>12.8</td>\n",
       "      <td>----</td>\n",
       "      <td>1025.8</td>\n",
       "      <td>Tr</td>\n",
       "      <td>7.5</td>\n",
       "      <td>6.5</td>\n",
       "      <td>11.0</td>\n",
       "    </tr>\n",
       "    <tr>\n",
       "      <th>17</th>\n",
       "      <td>2015-12-19</td>\n",
       "      <td>53</td>\n",
       "      <td>260</td>\n",
       "      <td>135</td>\n",
       "      <td>1294</td>\n",
       "      <td>1707</td>\n",
       "      <td>-</td>\n",
       "      <td>92</td>\n",
       "      <td>61</td>\n",
       "      <td>9.6</td>\n",
       "      <td>...</td>\n",
       "      <td>5.5</td>\n",
       "      <td>89.2</td>\n",
       "      <td>WSW</td>\n",
       "      <td>14.7</td>\n",
       "      <td>----</td>\n",
       "      <td>1024.3</td>\n",
       "      <td>0.2</td>\n",
       "      <td>7.3</td>\n",
       "      <td>5.2</td>\n",
       "      <td>17.3</td>\n",
       "    </tr>\n",
       "    <tr>\n",
       "      <th>18</th>\n",
       "      <td>2015-12-20</td>\n",
       "      <td>41</td>\n",
       "      <td>195</td>\n",
       "      <td>101</td>\n",
       "      <td>1362</td>\n",
       "      <td>1874</td>\n",
       "      <td>-</td>\n",
       "      <td>126</td>\n",
       "      <td>79</td>\n",
       "      <td>10.8</td>\n",
       "      <td>...</td>\n",
       "      <td>3.6</td>\n",
       "      <td>92.3</td>\n",
       "      <td>SW</td>\n",
       "      <td>7.4</td>\n",
       "      <td>----</td>\n",
       "      <td>1027.2</td>\n",
       "      <td>0.0</td>\n",
       "      <td>4.0</td>\n",
       "      <td>1.2</td>\n",
       "      <td>7.5</td>\n",
       "    </tr>\n",
       "    <tr>\n",
       "      <th>19</th>\n",
       "      <td>2015-12-21</td>\n",
       "      <td>55</td>\n",
       "      <td>258</td>\n",
       "      <td>132</td>\n",
       "      <td>1164</td>\n",
       "      <td>1900</td>\n",
       "      <td>-</td>\n",
       "      <td>70</td>\n",
       "      <td>54</td>\n",
       "      <td>3.9</td>\n",
       "      <td>...</td>\n",
       "      <td>0.6</td>\n",
       "      <td>100.0</td>\n",
       "      <td>SW</td>\n",
       "      <td>4.8</td>\n",
       "      <td>----</td>\n",
       "      <td>1027.0</td>\n",
       "      <td>0.0</td>\n",
       "      <td>3.8</td>\n",
       "      <td>7.6</td>\n",
       "      <td>0.6</td>\n",
       "    </tr>\n",
       "    <tr>\n",
       "      <th>20</th>\n",
       "      <td>2015-12-22</td>\n",
       "      <td>57</td>\n",
       "      <td>188</td>\n",
       "      <td>85</td>\n",
       "      <td>747</td>\n",
       "      <td>1025</td>\n",
       "      <td>-</td>\n",
       "      <td>46</td>\n",
       "      <td>25</td>\n",
       "      <td>8.5</td>\n",
       "      <td>...</td>\n",
       "      <td>2.8</td>\n",
       "      <td>84.8</td>\n",
       "      <td>WSW</td>\n",
       "      <td>19.5</td>\n",
       "      <td>64.8</td>\n",
       "      <td>1025.1</td>\n",
       "      <td>Tr</td>\n",
       "      <td>5.0</td>\n",
       "      <td>4.5</td>\n",
       "      <td>22.7</td>\n",
       "    </tr>\n",
       "    <tr>\n",
       "      <th>21</th>\n",
       "      <td>2015-12-23</td>\n",
       "      <td>63</td>\n",
       "      <td>272</td>\n",
       "      <td>136</td>\n",
       "      <td>867</td>\n",
       "      <td>1508</td>\n",
       "      <td>-</td>\n",
       "      <td>49</td>\n",
       "      <td>30</td>\n",
       "      <td>10.7</td>\n",
       "      <td>...</td>\n",
       "      <td>5.1</td>\n",
       "      <td>79.0</td>\n",
       "      <td>SW</td>\n",
       "      <td>18.8</td>\n",
       "      <td>54.0</td>\n",
       "      <td>1026.0</td>\n",
       "      <td>0.0</td>\n",
       "      <td>6.0</td>\n",
       "      <td>3.5</td>\n",
       "      <td>34.6</td>\n",
       "    </tr>\n",
       "    <tr>\n",
       "      <th>22</th>\n",
       "      <td>2015-12-24</td>\n",
       "      <td>58</td>\n",
       "      <td>338</td>\n",
       "      <td>183</td>\n",
       "      <td>1508</td>\n",
       "      <td>2225</td>\n",
       "      <td>-</td>\n",
       "      <td>107</td>\n",
       "      <td>79</td>\n",
       "      <td>14.3</td>\n",
       "      <td>...</td>\n",
       "      <td>3.1</td>\n",
       "      <td>73.6</td>\n",
       "      <td>WSW</td>\n",
       "      <td>17.1</td>\n",
       "      <td>64.8</td>\n",
       "      <td>1028.3</td>\n",
       "      <td>0.0</td>\n",
       "      <td>3.4</td>\n",
       "      <td>2.8</td>\n",
       "      <td>22.9</td>\n",
       "    </tr>\n",
       "    <tr>\n",
       "      <th>23</th>\n",
       "      <td>2015-12-25</td>\n",
       "      <td>35</td>\n",
       "      <td>146</td>\n",
       "      <td>72</td>\n",
       "      <td>1349</td>\n",
       "      <td>2335</td>\n",
       "      <td>-</td>\n",
       "      <td>115</td>\n",
       "      <td>92</td>\n",
       "      <td>9.5</td>\n",
       "      <td>...</td>\n",
       "      <td>1.5</td>\n",
       "      <td>93.5</td>\n",
       "      <td>NE</td>\n",
       "      <td>4.2</td>\n",
       "      <td>----</td>\n",
       "      <td>1029.9</td>\n",
       "      <td>0.0</td>\n",
       "      <td>2.2</td>\n",
       "      <td>1.9</td>\n",
       "      <td>3.9</td>\n",
       "    </tr>\n",
       "    <tr>\n",
       "      <th>24</th>\n",
       "      <td>2015-12-26</td>\n",
       "      <td>30</td>\n",
       "      <td>72</td>\n",
       "      <td>28</td>\n",
       "      <td>536</td>\n",
       "      <td>1129</td>\n",
       "      <td>-</td>\n",
       "      <td>34</td>\n",
       "      <td>26</td>\n",
       "      <td>9.8</td>\n",
       "      <td>...</td>\n",
       "      <td>4.2</td>\n",
       "      <td>84.1</td>\n",
       "      <td>SW</td>\n",
       "      <td>13.1</td>\n",
       "      <td>50.4</td>\n",
       "      <td>1029.8</td>\n",
       "      <td>Tr</td>\n",
       "      <td>6.1</td>\n",
       "      <td>5.1</td>\n",
       "      <td>21.1</td>\n",
       "    </tr>\n",
       "    <tr>\n",
       "      <th>25</th>\n",
       "      <td>2015-12-27</td>\n",
       "      <td>61</td>\n",
       "      <td>223</td>\n",
       "      <td>106</td>\n",
       "      <td>946</td>\n",
       "      <td>1593</td>\n",
       "      <td>-</td>\n",
       "      <td>56</td>\n",
       "      <td>40</td>\n",
       "      <td>13.2</td>\n",
       "      <td>...</td>\n",
       "      <td>5.7</td>\n",
       "      <td>72.2</td>\n",
       "      <td>SW</td>\n",
       "      <td>22.8</td>\n",
       "      <td>61.2</td>\n",
       "      <td>1026.5</td>\n",
       "      <td>0.0</td>\n",
       "      <td>4.0</td>\n",
       "      <td>1.8</td>\n",
       "      <td>40.4</td>\n",
       "    </tr>\n",
       "    <tr>\n",
       "      <th>26</th>\n",
       "      <td>2015-12-28</td>\n",
       "      <td>50</td>\n",
       "      <td>170</td>\n",
       "      <td>79</td>\n",
       "      <td>719</td>\n",
       "      <td>1584</td>\n",
       "      <td>-</td>\n",
       "      <td>63</td>\n",
       "      <td>43</td>\n",
       "      <td>12.6</td>\n",
       "      <td>...</td>\n",
       "      <td>3.8</td>\n",
       "      <td>71.5</td>\n",
       "      <td>SW</td>\n",
       "      <td>16.2</td>\n",
       "      <td>----</td>\n",
       "      <td>1028.7</td>\n",
       "      <td>0.0</td>\n",
       "      <td>4.8</td>\n",
       "      <td>1.5</td>\n",
       "      <td>31.9</td>\n",
       "    </tr>\n",
       "    <tr>\n",
       "      <th>27</th>\n",
       "      <td>2015-12-29</td>\n",
       "      <td>47</td>\n",
       "      <td>160</td>\n",
       "      <td>74</td>\n",
       "      <td>601</td>\n",
       "      <td>699</td>\n",
       "      <td>-</td>\n",
       "      <td>49</td>\n",
       "      <td>34</td>\n",
       "      <td>9.0</td>\n",
       "      <td>...</td>\n",
       "      <td>3.9</td>\n",
       "      <td>89.3</td>\n",
       "      <td>WNW</td>\n",
       "      <td>11.3</td>\n",
       "      <td>----</td>\n",
       "      <td>1032.3</td>\n",
       "      <td>0.1</td>\n",
       "      <td>6.3</td>\n",
       "      <td>6.2</td>\n",
       "      <td>10.9</td>\n",
       "    </tr>\n",
       "    <tr>\n",
       "      <th>28</th>\n",
       "      <td>2015-12-30</td>\n",
       "      <td>49</td>\n",
       "      <td>146</td>\n",
       "      <td>64</td>\n",
       "      <td>626</td>\n",
       "      <td>746</td>\n",
       "      <td>-</td>\n",
       "      <td>58</td>\n",
       "      <td>44</td>\n",
       "      <td>3.8</td>\n",
       "      <td>...</td>\n",
       "      <td>-4.1</td>\n",
       "      <td>85.8</td>\n",
       "      <td>NE</td>\n",
       "      <td>20.6</td>\n",
       "      <td>----</td>\n",
       "      <td>1038.5</td>\n",
       "      <td>Tr</td>\n",
       "      <td>4.3</td>\n",
       "      <td>7.3</td>\n",
       "      <td>20.0</td>\n",
       "    </tr>\n",
       "    <tr>\n",
       "      <th>29</th>\n",
       "      <td>2015-12-31</td>\n",
       "      <td>67</td>\n",
       "      <td>321</td>\n",
       "      <td>166</td>\n",
       "      <td>1459</td>\n",
       "      <td>2567</td>\n",
       "      <td>-</td>\n",
       "      <td>126</td>\n",
       "      <td>94</td>\n",
       "      <td>-3.2</td>\n",
       "      <td>...</td>\n",
       "      <td>-9.1</td>\n",
       "      <td>79.5</td>\n",
       "      <td>ENE</td>\n",
       "      <td>18.8</td>\n",
       "      <td>----</td>\n",
       "      <td>1040.7</td>\n",
       "      <td>0.0</td>\n",
       "      <td>0.9</td>\n",
       "      <td>2.6</td>\n",
       "      <td>20.8</td>\n",
       "    </tr>\n",
       "  </tbody>\n",
       "</table>\n",
       "<p>30 rows × 22 columns</p>\n",
       "</div>"
      ],
      "text/plain": [
       "           day  no2  nox   no    co   co8 benz  pm10  pm2.5  max temp  \\\n",
       "0   2015-12-02   63  241  117   832  1295    -    52     40       8.9   \n",
       "1   2015-12-03   73  395  211  1368  2112    -   126     86       8.7   \n",
       "2   2015-12-04   71  415  225  1784  2385    -   172    111       8.3   \n",
       "3   2015-12-05   54  210  102   915  1280    -    74     53       8.5   \n",
       "4   2015-12-06   60  238  117  1142  1341    -    84     63       9.6   \n",
       "5   2015-12-07   65  299  153  1127  1369    -    79     54       9.9   \n",
       "6   2015-12-08   56  310  166  1166  1360    -   113     77       8.5   \n",
       "7   2015-12-09   47  237  124   982  1341    -    82     56       9.3   \n",
       "8   2015-12-10   78  374  194  1235  2325    -   103     63       6.0   \n",
       "9   2015-12-11   71  382  202  1695  2465    -   153    111       7.1   \n",
       "10  2015-12-12   46  161   75   736  1148    -    54     38       5.8   \n",
       "11  2015-12-13   40  142   66   755  1372    -    54     43       6.8   \n",
       "12  2015-12-14   76  358  184  1110  2161    -    87     55       9.4   \n",
       "13  2015-12-15   73  436  238  2104  2395    -   198    147       4.0   \n",
       "14  2015-12-16   55  303  163  1202  1811    -   114     78       3.3   \n",
       "15  2015-12-17   52  273  145  1335  1674    -   117     79       4.3   \n",
       "16  2015-12-18   51  260  136  1071  1419    -    57     43       5.9   \n",
       "17  2015-12-19   53  260  135  1294  1707    -    92     61       9.6   \n",
       "18  2015-12-20   41  195  101  1362  1874    -   126     79      10.8   \n",
       "19  2015-12-21   55  258  132  1164  1900    -    70     54       3.9   \n",
       "20  2015-12-22   57  188   85   747  1025    -    46     25       8.5   \n",
       "21  2015-12-23   63  272  136   867  1508    -    49     30      10.7   \n",
       "22  2015-12-24   58  338  183  1508  2225    -   107     79      14.3   \n",
       "23  2015-12-25   35  146   72  1349  2335    -   115     92       9.5   \n",
       "24  2015-12-26   30   72   28   536  1129    -    34     26       9.8   \n",
       "25  2015-12-27   61  223  106   946  1593    -    56     40      13.2   \n",
       "26  2015-12-28   50  170   79   719  1584    -    63     43      12.6   \n",
       "27  2015-12-29   47  160   74   601   699    -    49     34       9.0   \n",
       "28  2015-12-30   49  146   64   626   746    -    58     44       3.8   \n",
       "29  2015-12-31   67  321  166  1459  2567    -   126     94      -3.2   \n",
       "\n",
       "      ...      td avg  hr avg  wind dir  wind int wind gust  pressure precip  \\\n",
       "0     ...         1.0    75.7         W      25.1      72.0    1020.5    0.1   \n",
       "1     ...         5.0    94.8       WSW      11.9      ----    1027.7    1.0   \n",
       "2     ...         2.4    94.7        SW       6.3      ----    1032.2    0.0   \n",
       "3     ...         2.8    82.6       WSW      14.0      ----    1031.2     Tr   \n",
       "4     ...         2.4    85.1        SW      13.2      ----    1031.0    0.0   \n",
       "5     ...         2.1    85.8        SW      12.2      ----    1030.1    0.0   \n",
       "6     ...         5.0    90.2        SW       8.9      ----    1036.4    0.0   \n",
       "7     ...         5.3    96.2        NE       9.9      ----    1035.1    0.0   \n",
       "8     ...         3.6    94.7       WSW      10.5      ----    1033.8    0.2   \n",
       "9     ...        -1.3    86.8       WNW       4.8      ----    1035.4    0.0   \n",
       "10    ...        -0.4    79.3        SW      13.2      ----    1024.1    1.5   \n",
       "11    ...         1.1    90.9       WSW      13.2      43.2    1021.7    0.9   \n",
       "12    ...         1.5    80.1       WSW      23.9      72.0    1019.3    1.0   \n",
       "13    ...        -2.5    82.5        NW       6.2      ----    1028.2    0.0   \n",
       "14    ...         0.9    91.5        SW       5.4      ----    1028.4    0.0   \n",
       "15    ...         1.2    96.1       SSW       5.0      ----    1031.8    0.0   \n",
       "16    ...         2.7    93.2        SW      12.8      ----    1025.8     Tr   \n",
       "17    ...         5.5    89.2       WSW      14.7      ----    1024.3    0.2   \n",
       "18    ...         3.6    92.3        SW       7.4      ----    1027.2    0.0   \n",
       "19    ...         0.6   100.0        SW       4.8      ----    1027.0    0.0   \n",
       "20    ...         2.8    84.8       WSW      19.5      64.8    1025.1     Tr   \n",
       "21    ...         5.1    79.0        SW      18.8      54.0    1026.0    0.0   \n",
       "22    ...         3.1    73.6       WSW      17.1      64.8    1028.3    0.0   \n",
       "23    ...         1.5    93.5        NE       4.2      ----    1029.9    0.0   \n",
       "24    ...         4.2    84.1        SW      13.1      50.4    1029.8     Tr   \n",
       "25    ...         5.7    72.2        SW      22.8      61.2    1026.5    0.0   \n",
       "26    ...         3.8    71.5        SW      16.2      ----    1028.7    0.0   \n",
       "27    ...         3.9    89.3       WNW      11.3      ----    1032.3    0.1   \n",
       "28    ...        -4.1    85.8        NE      20.6      ----    1038.5     Tr   \n",
       "29    ...        -9.1    79.5       ENE      18.8      ----    1040.7    0.0   \n",
       "\n",
       "    tot oct low oct visibility  \n",
       "0       6.8     6.7       31.2  \n",
       "1       8.0     7.6        5.8  \n",
       "2       4.4     4.9        3.1  \n",
       "3       6.8     3.8       11.8  \n",
       "4       3.9     0.4       12.0  \n",
       "5       3.2     1.0       15.4  \n",
       "6       7.6     6.8        9.5  \n",
       "7       7.6     6.2        2.6  \n",
       "8       ---     7.2        8.3  \n",
       "9       2.5     5.4       13.0  \n",
       "10      6.1     4.0       12.5  \n",
       "11      4.8     4.4       11.6  \n",
       "12      6.8     6.5       26.6  \n",
       "13      6.5     5.5       14.7  \n",
       "14      7.8     7.0        3.7  \n",
       "15      7.6     7.3        3.1  \n",
       "16      7.5     6.5       11.0  \n",
       "17      7.3     5.2       17.3  \n",
       "18      4.0     1.2        7.5  \n",
       "19      3.8     7.6        0.6  \n",
       "20      5.0     4.5       22.7  \n",
       "21      6.0     3.5       34.6  \n",
       "22      3.4     2.8       22.9  \n",
       "23      2.2     1.9        3.9  \n",
       "24      6.1     5.1       21.1  \n",
       "25      4.0     1.8       40.4  \n",
       "26      4.8     1.5       31.9  \n",
       "27      6.3     6.2       10.9  \n",
       "28      4.3     7.3       20.0  \n",
       "29      0.9     2.6       20.8  \n",
       "\n",
       "[30 rows x 22 columns]"
      ]
     },
     "execution_count": 59,
     "metadata": {},
     "output_type": "execute_result"
    }
   ],
   "source": [
    "df"
   ]
  },
  {
   "cell_type": "code",
   "execution_count": 65,
   "metadata": {
    "collapsed": false
   },
   "outputs": [
    {
     "data": {
      "image/png": "[encoded data removed]",
      "text/plain": [
       "<matplotlib.figure.Figure at 0x109d38210>"
      ]
     },
     "metadata": {},
     "output_type": "display_data"
    },
    {
     "data": {
      "text/plain": [
       "<ggplot: (278739125)>"
      ]
     },
     "execution_count": 65,
     "metadata": {},
     "output_type": "execute_result"
    }
   ],
   "source": [
    "ggplot(aes(x='pm2.5',y='pm10',color='max temp'),data=df)+geom_point(alpha=0.8)"
   ]
  },
  {
   "cell_type": "code",
   "execution_count": 79,
   "metadata": {
    "collapsed": false
   },
   "outputs": [
    {
     "data": {
      "text/plain": [
       "<seaborn.axisgrid.JointGrid at 0x10a04a050>"
      ]
     },
     "execution_count": 79,
     "metadata": {},
     "output_type": "execute_result"
    },
    {
     "data": {
      "image/png": "[encoded data removed]",
      "text/plain": [
       "<matplotlib.figure.Figure at 0x10a401f10>"
      ]
     },
     "metadata": {},
     "output_type": "display_data"
    }
   ],
   "source": [
    "sns.jointplot(\"pm2.5\", \"pm10\", df, kind=\"reg\")"
   ]
  },
  {
   "cell_type": "code",
   "execution_count": 66,
   "metadata": {
    "collapsed": false
   },
   "outputs": [
    {
     "data": {
      "image/png": "[encoded data removed]",
      "text/plain": [
       "<matplotlib.figure.Figure at 0x10a227b10>"
      ]
     },
     "metadata": {},
     "output_type": "display_data"
    },
    {
     "data": {
      "text/plain": [
       "<ggplot: (279065009)>"
      ]
     },
     "execution_count": 66,
     "metadata": {},
     "output_type": "execute_result"
    }
   ],
   "source": [
    "ggplot(aes(x='wind int',y='pm10',color='max temp'),data=df)+geom_point(alpha=0.8)"
   ]
  },
  {
   "cell_type": "code",
   "execution_count": 80,
   "metadata": {
    "collapsed": false
   },
   "outputs": [
    {
     "data": {
      "text/plain": [
       "<seaborn.axisgrid.JointGrid at 0x10a64e350>"
      ]
     },
     "execution_count": 80,
     "metadata": {},
     "output_type": "execute_result"
    },
    {
     "data": {
      "image/png": "[encoded data removed]",
      "text/plain": [
       "<matplotlib.figure.Figure at 0x10a64ee10>"
      ]
     },
     "metadata": {},
     "output_type": "display_data"
    }
   ],
   "source": [
    "sns.jointplot(\"pm2.5\", \"wind int\", df, kind=\"reg\")"
   ]
  },
  {
   "cell_type": "code",
   "execution_count": null,
   "metadata": {
    "collapsed": true
   },
   "outputs": [],
   "source": []
  },
  {
   "cell_type": "code",
   "execution_count": 137,
   "metadata": {
    "collapsed": false
   },
   "outputs": [
    {
     "data": {
      "text/plain": [
       "<seaborn.axisgrid.JointGrid at 0x10c2e9490>"
      ]
     },
     "execution_count": 137,
     "metadata": {},
     "output_type": "execute_result"
    },
    {
     "data": {
      "image/png": "[encoded data removed]",
      "text/plain": [
       "<matplotlib.figure.Figure at 0x10c2e93d0>"
      ]
     },
     "metadata": {},
     "output_type": "display_data"
    }
   ],
   "source": [
    "sns.jointplot(\"pm10\", \"wind int\", df, kind=\"reg\")"
   ]
  },
  {
   "cell_type": "code",
   "execution_count": null,
   "metadata": {
    "collapsed": true
   },
   "outputs": [],
   "source": []
  },
  {
   "cell_type": "code",
   "execution_count": null,
   "metadata": {
    "collapsed": true
   },
   "outputs": [],
   "source": []
  },
  {
   "cell_type": "code",
   "execution_count": 141,
   "metadata": {
    "collapsed": false
   },
   "outputs": [
    {
     "data": {
      "image/png": "[encoded data removed]",
      "text/plain": [
       "<matplotlib.figure.Figure at 0x10c21cf50>"
      ]
     },
     "metadata": {},
     "output_type": "display_data"
    },
    {
     "data": {
      "text/plain": [
       "<ggplot: (281223245)>"
      ]
     },
     "execution_count": 141,
     "metadata": {},
     "output_type": "execute_result"
    }
   ],
   "source": [
    "ggplot(aes(x='wind int',y='pm10',color='pressure'),data=df)+geom_point(alpha=0.8)"
   ]
  },
  {
   "cell_type": "code",
   "execution_count": null,
   "metadata": {
    "collapsed": true
   },
   "outputs": [],
   "source": []
  },
  {
   "cell_type": "code",
   "execution_count": null,
   "metadata": {
    "collapsed": true
   },
   "outputs": [],
   "source": []
  },
  {
   "cell_type": "code",
   "execution_count": 67,
   "metadata": {
    "collapsed": false
   },
   "outputs": [
    {
     "data": {
      "image/png": "[encoded data removed]",
      "text/plain": [
       "<matplotlib.figure.Figure at 0x10a20fbd0>"
      ]
     },
     "metadata": {},
     "output_type": "display_data"
    },
    {
     "data": {
      "text/plain": [
       "<ggplot: (278234917)>"
      ]
     },
     "execution_count": 67,
     "metadata": {},
     "output_type": "execute_result"
    }
   ],
   "source": [
    "ggplot(aes(x='wind int',y='pm10',color='wind dir'),data=df)+geom_point(alpha=0.8)"
   ]
  },
  {
   "cell_type": "code",
   "execution_count": 75,
   "metadata": {
    "collapsed": false
   },
   "outputs": [
    {
     "data": {
      "image/png": "[encoded data removed]",
      "text/plain": [
       "<matplotlib.figure.Figure at 0x10a239a10>"
      ]
     },
     "metadata": {},
     "output_type": "display_data"
    },
    {
     "data": {
      "text/plain": [
       "<ggplot: (278206317)>"
      ]
     },
     "execution_count": 75,
     "metadata": {},
     "output_type": "execute_result"
    }
   ],
   "source": [
    "ggplot(aes(x='max temp',y='pm10',color='wind int'),data=df)+geom_point(alpha=0.8)"
   ]
  },
  {
   "cell_type": "code",
   "execution_count": null,
   "metadata": {
    "collapsed": true
   },
   "outputs": [],
   "source": []
  },
  {
   "cell_type": "code",
   "execution_count": null,
   "metadata": {
    "collapsed": true
   },
   "outputs": [],
   "source": []
  },
  {
   "cell_type": "code",
   "execution_count": 68,
   "metadata": {
    "collapsed": false
   },
   "outputs": [
    {
     "data": {
      "text/plain": [
       "<matplotlib.axes.AxesSubplot at 0x1094fb4d0>"
      ]
     },
     "execution_count": 68,
     "metadata": {},
     "output_type": "execute_result"
    },
    {
     "data": {
      "image/png": "[encoded data removed]",
      "text/plain": [
       "<matplotlib.figure.Figure at 0x10a218090>"
      ]
     },
     "metadata": {},
     "output_type": "display_data"
    }
   ],
   "source": [
    "sns.boxplot(x='wind dir',y='pm10', data=df)"
   ]
  },
  {
   "cell_type": "code",
   "execution_count": 76,
   "metadata": {
    "collapsed": false
   },
   "outputs": [
    {
     "data": {
      "text/plain": [
       "<matplotlib.axes.AxesSubplot at 0x10a23dd90>"
      ]
     },
     "execution_count": 76,
     "metadata": {},
     "output_type": "execute_result"
    },
    {
     "data": {
      "image/png": "[encoded data removed]",
      "text/plain": [
       "<matplotlib.figure.Figure at 0x10a227090>"
      ]
     },
     "metadata": {},
     "output_type": "display_data"
    }
   ],
   "source": [
    "sns.boxplot(x='wind dir',y='wind int', data=df)"
   ]
  },
  {
   "cell_type": "code",
   "execution_count": null,
   "metadata": {
    "collapsed": true
   },
   "outputs": [],
   "source": []
  },
  {
   "cell_type": "code",
   "execution_count": 69,
   "metadata": {
    "collapsed": false
   },
   "outputs": [
    {
     "name": "stdout",
     "output_type": "stream",
     "text": [
      "                            OLS Regression Results                            \n",
      "==============================================================================\n",
      "Dep. Variable:                   pm10   R-squared:                       0.967\n",
      "Model:                            OLS   Adj. R-squared:                  0.966\n",
      "Method:                 Least Squares   F-statistic:                     820.0\n",
      "Date:                Tue, 12 Jan 2016   Prob (F-statistic):           2.78e-22\n",
      "Time:                        09:02:07   Log-Likelihood:                -101.60\n",
      "No. Observations:                  30   AIC:                             207.2\n",
      "Df Residuals:                      28   BIC:                             210.0\n",
      "Df Model:                           1                                         \n",
      "Covariance Type:            nonrobust                                         \n",
      "==============================================================================\n",
      "                 coef    std err          t      P>|t|      [95.0% Conf. Int.]\n",
      "------------------------------------------------------------------------------\n",
      "const          2.8929      3.340      0.866      0.394        -3.948     9.734\n",
      "pm2.5          1.3821      0.048     28.635      0.000         1.283     1.481\n",
      "==============================================================================\n",
      "Omnibus:                        0.922   Durbin-Watson:                   2.025\n",
      "Prob(Omnibus):                  0.631   Jarque-Bera (JB):                0.826\n",
      "Skew:                           0.373   Prob(JB):                        0.662\n",
      "Kurtosis:                       2.677   Cond. No.                         171.\n",
      "==============================================================================\n",
      "\n",
      "Warnings:\n",
      "[1] Standard Errors assume that the covariance matrix of the errors is correctly specified.\n",
      "                            OLS Regression Results                            \n",
      "==============================================================================\n",
      "Dep. Variable:                   pm10   R-squared:                       0.318\n",
      "Model:                            OLS   Adj. R-squared:                  0.294\n",
      "Method:                 Least Squares   F-statistic:                     13.05\n",
      "Date:                Tue, 12 Jan 2016   Prob (F-statistic):            0.00117\n",
      "Time:                        09:02:07   Log-Likelihood:                -147.02\n",
      "No. Observations:                  30   AIC:                             298.0\n",
      "Df Residuals:                      28   BIC:                             300.8\n",
      "Df Model:                           1                                         \n",
      "Covariance Type:            nonrobust                                         \n",
      "==============================================================================\n",
      "                 coef    std err          t      P>|t|      [95.0% Conf. Int.]\n",
      "------------------------------------------------------------------------------\n",
      "const        138.5395     14.689      9.431      0.000       108.450   168.629\n",
      "wind int      -3.7485      1.037     -3.613      0.001        -5.874    -1.623\n",
      "==============================================================================\n",
      "Omnibus:                        2.045   Durbin-Watson:                   1.678\n",
      "Prob(Omnibus):                  0.360   Jarque-Bera (JB):                1.419\n",
      "Skew:                           0.533   Prob(JB):                        0.492\n",
      "Kurtosis:                       2.976   Cond. No.                         34.0\n",
      "==============================================================================\n",
      "\n",
      "Warnings:\n",
      "[1] Standard Errors assume that the covariance matrix of the errors is correctly specified.\n",
      "                            OLS Regression Results                            \n",
      "==============================================================================\n",
      "Dep. Variable:                  pm2.5   R-squared:                       0.320\n",
      "Model:                            OLS   Adj. R-squared:                  0.296\n",
      "Method:                 Least Squares   F-statistic:                     13.19\n",
      "Date:                Tue, 12 Jan 2016   Prob (F-statistic):            0.00112\n",
      "Time:                        09:02:07   Log-Likelihood:                -136.76\n",
      "No. Observations:                  30   AIC:                             277.5\n",
      "Df Residuals:                      28   BIC:                             280.3\n",
      "Df Model:                           1                                         \n",
      "Covariance Type:            nonrobust                                         \n",
      "==============================================================================\n",
      "                 coef    std err          t      P>|t|      [95.0% Conf. Int.]\n",
      "------------------------------------------------------------------------------\n",
      "const         97.6835     10.435      9.362      0.000        76.309   119.058\n",
      "wind int      -2.6763      0.737     -3.631      0.001        -4.186    -1.167\n",
      "==============================================================================\n",
      "Omnibus:                        5.454   Durbin-Watson:                   1.653\n",
      "Prob(Omnibus):                  0.065   Jarque-Bera (JB):                3.852\n",
      "Skew:                           0.824   Prob(JB):                        0.146\n",
      "Kurtosis:                       3.605   Cond. No.                         34.0\n",
      "==============================================================================\n",
      "\n",
      "Warnings:\n",
      "[1] Standard Errors assume that the covariance matrix of the errors is correctly specified.\n"
     ]
    }
   ],
   "source": [
    "corls=list(an.correlate_ols_all(df[['pm10','pm2.5','wind int']]))\n",
    "for c in corls:\n",
    "    print c.summary()"
   ]
  },
  {
   "cell_type": "code",
   "execution_count": 71,
   "metadata": {
    "collapsed": false
   },
   "outputs": [
    {
     "data": {
      "text/html": [
       "<table class=\"simpletable\">\n",
       "<caption>OLS Regression Results</caption>\n",
       "<tr>\n",
       "  <th>Dep. Variable:</th>          <td>pm10</td>       <th>  R-squared:         </th> <td>   0.337</td>\n",
       "</tr>\n",
       "<tr>\n",
       "  <th>Model:</th>                   <td>OLS</td>       <th>  Adj. R-squared:    </th> <td>   0.288</td>\n",
       "</tr>\n",
       "<tr>\n",
       "  <th>Method:</th>             <td>Least Squares</td>  <th>  F-statistic:       </th> <td>   6.876</td>\n",
       "</tr>\n",
       "<tr>\n",
       "  <th>Date:</th>             <td>Tue, 12 Jan 2016</td> <th>  Prob (F-statistic):</th>  <td>0.00386</td>\n",
       "</tr>\n",
       "<tr>\n",
       "  <th>Time:</th>                 <td>09:03:33</td>     <th>  Log-Likelihood:    </th> <td> -146.59</td>\n",
       "</tr>\n",
       "<tr>\n",
       "  <th>No. Observations:</th>      <td>    30</td>      <th>  AIC:               </th> <td>   299.2</td>\n",
       "</tr>\n",
       "<tr>\n",
       "  <th>Df Residuals:</th>          <td>    27</td>      <th>  BIC:               </th> <td>   303.4</td>\n",
       "</tr>\n",
       "<tr>\n",
       "  <th>Df Model:</th>              <td>     2</td>      <th>                     </th>     <td> </td>   \n",
       "</tr>\n",
       "<tr>\n",
       "  <th>Covariance Type:</th>      <td>nonrobust</td>    <th>                     </th>     <td> </td>   \n",
       "</tr>\n",
       "</table>\n",
       "<table class=\"simpletable\">\n",
       "<tr>\n",
       "      <td></td>        <th>coef</th>     <th>std err</th>      <th>t</th>      <th>P>|t|</th> <th>[95.0% Conf. Int.]</th> \n",
       "</tr>\n",
       "<tr>\n",
       "  <th>const</th>    <td>  148.7450</td> <td>   18.671</td> <td>    7.967</td> <td> 0.000</td> <td>  110.435   187.055</td>\n",
       "</tr>\n",
       "<tr>\n",
       "  <th>wind int</th> <td>   -3.5285</td> <td>    1.070</td> <td>   -3.297</td> <td> 0.003</td> <td>   -5.724    -1.333</td>\n",
       "</tr>\n",
       "<tr>\n",
       "  <th>max temp</th> <td>   -1.6514</td> <td>    1.854</td> <td>   -0.891</td> <td> 0.381</td> <td>   -5.455     2.152</td>\n",
       "</tr>\n",
       "</table>\n",
       "<table class=\"simpletable\">\n",
       "<tr>\n",
       "  <th>Omnibus:</th>       <td> 0.918</td> <th>  Durbin-Watson:     </th> <td>   1.828</td>\n",
       "</tr>\n",
       "<tr>\n",
       "  <th>Prob(Omnibus):</th> <td> 0.632</td> <th>  Jarque-Bera (JB):  </th> <td>   0.782</td>\n",
       "</tr>\n",
       "<tr>\n",
       "  <th>Skew:</th>          <td> 0.370</td> <th>  Prob(JB):          </th> <td>   0.676</td>\n",
       "</tr>\n",
       "<tr>\n",
       "  <th>Kurtosis:</th>      <td> 2.723</td> <th>  Cond. No.          </th> <td>    49.1</td>\n",
       "</tr>\n",
       "</table>"
      ],
      "text/plain": [
       "<class 'statsmodels.iolib.summary.Summary'>\n",
       "\"\"\"\n",
       "                            OLS Regression Results                            \n",
       "==============================================================================\n",
       "Dep. Variable:                   pm10   R-squared:                       0.337\n",
       "Model:                            OLS   Adj. R-squared:                  0.288\n",
       "Method:                 Least Squares   F-statistic:                     6.876\n",
       "Date:                Tue, 12 Jan 2016   Prob (F-statistic):            0.00386\n",
       "Time:                        09:03:33   Log-Likelihood:                -146.59\n",
       "No. Observations:                  30   AIC:                             299.2\n",
       "Df Residuals:                      27   BIC:                             303.4\n",
       "Df Model:                           2                                         \n",
       "Covariance Type:            nonrobust                                         \n",
       "==============================================================================\n",
       "                 coef    std err          t      P>|t|      [95.0% Conf. Int.]\n",
       "------------------------------------------------------------------------------\n",
       "const        148.7450     18.671      7.967      0.000       110.435   187.055\n",
       "wind int      -3.5285      1.070     -3.297      0.003        -5.724    -1.333\n",
       "max temp      -1.6514      1.854     -0.891      0.381        -5.455     2.152\n",
       "==============================================================================\n",
       "Omnibus:                        0.918   Durbin-Watson:                   1.828\n",
       "Prob(Omnibus):                  0.632   Jarque-Bera (JB):                0.782\n",
       "Skew:                           0.370   Prob(JB):                        0.676\n",
       "Kurtosis:                       2.723   Cond. No.                         49.1\n",
       "==============================================================================\n",
       "\n",
       "Warnings:\n",
       "[1] Standard Errors assume that the covariance matrix of the errors is correctly specified.\n",
       "\"\"\""
      ]
     },
     "execution_count": 71,
     "metadata": {},
     "output_type": "execute_result"
    }
   ],
   "source": [
    "an.correlate_ols(df,('pm10','wind int','max temp')).summary()"
   ]
  },
  {
   "cell_type": "code",
   "execution_count": 74,
   "metadata": {
    "collapsed": false
   },
   "outputs": [
    {
     "data": {
      "text/html": [
       "<table class=\"simpletable\">\n",
       "<caption>OLS Regression Results</caption>\n",
       "<tr>\n",
       "  <th>Dep. Variable:</th>          <td>pm2.5</td>      <th>  R-squared:         </th> <td>   0.967</td>\n",
       "</tr>\n",
       "<tr>\n",
       "  <th>Model:</th>                   <td>OLS</td>       <th>  Adj. R-squared:    </th> <td>   0.966</td>\n",
       "</tr>\n",
       "<tr>\n",
       "  <th>Method:</th>             <td>Least Squares</td>  <th>  F-statistic:       </th> <td>   820.0</td>\n",
       "</tr>\n",
       "<tr>\n",
       "  <th>Date:</th>             <td>Tue, 12 Jan 2016</td> <th>  Prob (F-statistic):</th> <td>2.78e-22</td>\n",
       "</tr>\n",
       "<tr>\n",
       "  <th>Time:</th>                 <td>09:04:59</td>     <th>  Log-Likelihood:    </th> <td> -91.393</td>\n",
       "</tr>\n",
       "<tr>\n",
       "  <th>No. Observations:</th>      <td>    30</td>      <th>  AIC:               </th> <td>   186.8</td>\n",
       "</tr>\n",
       "<tr>\n",
       "  <th>Df Residuals:</th>          <td>    28</td>      <th>  BIC:               </th> <td>   189.6</td>\n",
       "</tr>\n",
       "<tr>\n",
       "  <th>Df Model:</th>              <td>     1</td>      <th>                     </th>     <td> </td>   \n",
       "</tr>\n",
       "<tr>\n",
       "  <th>Covariance Type:</th>      <td>nonrobust</td>    <th>                     </th>     <td> </td>   \n",
       "</tr>\n",
       "</table>\n",
       "<table class=\"simpletable\">\n",
       "<tr>\n",
       "    <td></td>       <th>coef</th>     <th>std err</th>      <th>t</th>      <th>P>|t|</th> <th>[95.0% Conf. Int.]</th> \n",
       "</tr>\n",
       "<tr>\n",
       "  <th>const</th> <td>    0.0651</td> <td>    2.408</td> <td>    0.027</td> <td> 0.979</td> <td>   -4.867     4.997</td>\n",
       "</tr>\n",
       "<tr>\n",
       "  <th>pm10</th>  <td>    0.6996</td> <td>    0.024</td> <td>   28.635</td> <td> 0.000</td> <td>    0.650     0.750</td>\n",
       "</tr>\n",
       "</table>\n",
       "<table class=\"simpletable\">\n",
       "<tr>\n",
       "  <th>Omnibus:</th>       <td> 0.041</td> <th>  Durbin-Watson:     </th> <td>   2.119</td>\n",
       "</tr>\n",
       "<tr>\n",
       "  <th>Prob(Omnibus):</th> <td> 0.980</td> <th>  Jarque-Bera (JB):  </th> <td>   0.214</td>\n",
       "</tr>\n",
       "<tr>\n",
       "  <th>Skew:</th>          <td>-0.068</td> <th>  Prob(JB):          </th> <td>   0.899</td>\n",
       "</tr>\n",
       "<tr>\n",
       "  <th>Kurtosis:</th>      <td> 2.609</td> <th>  Cond. No.          </th> <td>    247.</td>\n",
       "</tr>\n",
       "</table>"
      ],
      "text/plain": [
       "<class 'statsmodels.iolib.summary.Summary'>\n",
       "\"\"\"\n",
       "                            OLS Regression Results                            \n",
       "==============================================================================\n",
       "Dep. Variable:                  pm2.5   R-squared:                       0.967\n",
       "Model:                            OLS   Adj. R-squared:                  0.966\n",
       "Method:                 Least Squares   F-statistic:                     820.0\n",
       "Date:                Tue, 12 Jan 2016   Prob (F-statistic):           2.78e-22\n",
       "Time:                        09:04:59   Log-Likelihood:                -91.393\n",
       "No. Observations:                  30   AIC:                             186.8\n",
       "Df Residuals:                      28   BIC:                             189.6\n",
       "Df Model:                           1                                         \n",
       "Covariance Type:            nonrobust                                         \n",
       "==============================================================================\n",
       "                 coef    std err          t      P>|t|      [95.0% Conf. Int.]\n",
       "------------------------------------------------------------------------------\n",
       "const          0.0651      2.408      0.027      0.979        -4.867     4.997\n",
       "pm10           0.6996      0.024     28.635      0.000         0.650     0.750\n",
       "==============================================================================\n",
       "Omnibus:                        0.041   Durbin-Watson:                   2.119\n",
       "Prob(Omnibus):                  0.980   Jarque-Bera (JB):                0.214\n",
       "Skew:                          -0.068   Prob(JB):                        0.899\n",
       "Kurtosis:                       2.609   Cond. No.                         247.\n",
       "==============================================================================\n",
       "\n",
       "Warnings:\n",
       "[1] Standard Errors assume that the covariance matrix of the errors is correctly specified.\n",
       "\"\"\""
      ]
     },
     "execution_count": 74,
     "metadata": {},
     "output_type": "execute_result"
    }
   ],
   "source": [
    "an.correlate_ols(df,('pm2.5','pm10')).summary()"
   ]
  },
  {
   "cell_type": "code",
   "execution_count": null,
   "metadata": {
    "collapsed": true
   },
   "outputs": [],
   "source": [
    "#almost 70% of pm is actually fine one - 2.5"
   ]
  },
  {
   "cell_type": "code",
   "execution_count": 132,
   "metadata": {
    "collapsed": false
   },
   "outputs": [
    {
     "data": {
      "text/html": [
       "<div>\n",
       "<table border=\"1\" class=\"dataframe\">\n",
       "  <thead>\n",
       "    <tr style=\"text-align: right;\">\n",
       "      <th></th>\n",
       "      <th>day</th>\n",
       "      <th>no2</th>\n",
       "      <th>nox</th>\n",
       "      <th>no</th>\n",
       "      <th>co</th>\n",
       "      <th>co8</th>\n",
       "      <th>benz</th>\n",
       "      <th>pm10</th>\n",
       "      <th>pm2.5</th>\n",
       "      <th>next no2</th>\n",
       "      <th>next nox</th>\n",
       "      <th>next no</th>\n",
       "      <th>next co</th>\n",
       "      <th>next co8</th>\n",
       "      <th>next benz</th>\n",
       "      <th>next pm10</th>\n",
       "      <th>next pm2.5</th>\n",
       "    </tr>\n",
       "  </thead>\n",
       "  <tbody>\n",
       "    <tr>\n",
       "      <th>0</th>\n",
       "      <td>2015-12-02</td>\n",
       "      <td>63</td>\n",
       "      <td>241</td>\n",
       "      <td>117</td>\n",
       "      <td>832</td>\n",
       "      <td>1295</td>\n",
       "      <td>-</td>\n",
       "      <td>52</td>\n",
       "      <td>40</td>\n",
       "      <td>42</td>\n",
       "      <td>107</td>\n",
       "      <td>42</td>\n",
       "      <td>408</td>\n",
       "      <td>769</td>\n",
       "      <td>-</td>\n",
       "      <td>21</td>\n",
       "      <td>14</td>\n",
       "    </tr>\n",
       "    <tr>\n",
       "      <th>1</th>\n",
       "      <td>2015-12-03</td>\n",
       "      <td>73</td>\n",
       "      <td>395</td>\n",
       "      <td>211</td>\n",
       "      <td>1368</td>\n",
       "      <td>2112</td>\n",
       "      <td>-</td>\n",
       "      <td>126</td>\n",
       "      <td>86</td>\n",
       "      <td>63</td>\n",
       "      <td>241</td>\n",
       "      <td>117</td>\n",
       "      <td>832</td>\n",
       "      <td>1295</td>\n",
       "      <td>-</td>\n",
       "      <td>52</td>\n",
       "      <td>40</td>\n",
       "    </tr>\n",
       "  </tbody>\n",
       "</table>\n",
       "</div>"
      ],
      "text/plain": [
       "          day  no2  nox   no    co   co8 benz  pm10  pm2.5  next no2  \\\n",
       "0  2015-12-02   63  241  117   832  1295    -    52     40        42   \n",
       "1  2015-12-03   73  395  211  1368  2112    -   126     86        63   \n",
       "\n",
       "   next nox  next no  next co  next co8 next benz  next pm10  next pm2.5  \n",
       "0       107       42      408       769         -         21          14  \n",
       "1       241      117      832      1295         -         52          40  "
      ]
     },
     "execution_count": 132,
     "metadata": {},
     "output_type": "execute_result"
    }
   ],
   "source": [
    "df2aleje[:2]"
   ]
  },
  {
   "cell_type": "code",
   "execution_count": 135,
   "metadata": {
    "collapsed": false
   },
   "outputs": [
    {
     "data": {
      "text/plain": [
       "0      14\n",
       "1      40\n",
       "2      86\n",
       "3     111\n",
       "4      53\n",
       "5      63\n",
       "6      54\n",
       "7      77\n",
       "8      56\n",
       "9      63\n",
       "10    111\n",
       "11     38\n",
       "12     43\n",
       "13     55\n",
       "14    147\n",
       "15     78\n",
       "16     79\n",
       "17     43\n",
       "18     61\n",
       "19     79\n",
       "20     54\n",
       "21     25\n",
       "22     30\n",
       "23     79\n",
       "24     92\n",
       "25     26\n",
       "26     40\n",
       "27     43\n",
       "28     34\n",
       "29     44\n",
       "Name: next pm2.5, dtype: int64"
      ]
     },
     "execution_count": 135,
     "metadata": {},
     "output_type": "execute_result"
    }
   ],
   "source": [
    "df2aleje['next pm2.5']"
   ]
  },
  {
   "cell_type": "code",
   "execution_count": null,
   "metadata": {
    "collapsed": true
   },
   "outputs": [],
   "source": []
  },
  {
   "cell_type": "code",
   "execution_count": null,
   "metadata": {
    "collapsed": true
   },
   "outputs": [],
   "source": []
  },
  {
   "cell_type": "code",
   "execution_count": null,
   "metadata": {
    "collapsed": true
   },
   "outputs": [],
   "source": []
  },
  {
   "cell_type": "code",
   "execution_count": null,
   "metadata": {
    "collapsed": true
   },
   "outputs": [],
   "source": []
  },
  {
   "cell_type": "code",
   "execution_count": null,
   "metadata": {
    "collapsed": true
   },
   "outputs": [],
   "source": []
  },
  {
   "cell_type": "code",
   "execution_count": null,
   "metadata": {
    "collapsed": true
   },
   "outputs": [],
   "source": []
  },
  {
   "cell_type": "code",
   "execution_count": null,
   "metadata": {
    "collapsed": true
   },
   "outputs": [],
   "source": []
  },
  {
   "cell_type": "code",
   "execution_count": null,
   "metadata": {
    "collapsed": true
   },
   "outputs": [],
   "source": []
  },
  {
   "cell_type": "code",
   "execution_count": null,
   "metadata": {
    "collapsed": true
   },
   "outputs": [],
   "source": []
  }
 ],
 "metadata": {
  "kernelspec": {
   "display_name": "Python 2",
   "language": "python",
   "name": "python2"
  },
  "language_info": {
   "codemirror_mode": {
    "name": "ipython",
    "version": 2
   },
   "file_extension": ".py",
   "mimetype": "text/x-python",
   "name": "python",
   "nbconvert_exporter": "python",
   "pygments_lexer": "ipython2",
   "version": "2.7.6"
  }
 },
 "nbformat": 4,
 "nbformat_minor": 0
}
